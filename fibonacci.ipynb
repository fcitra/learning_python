{
  "nbformat": 4,
  "nbformat_minor": 0,
  "metadata": {
    "colab": {
      "name": "fibonacci.ipynb",
      "provenance": []
    },
    "kernelspec": {
      "name": "python3",
      "display_name": "Python 3"
    }
  },
  "cells": [
    {
      "cell_type": "code",
      "metadata": {
        "colab": {
          "base_uri": "https://localhost:8080/"
        },
        "id": "MZ9cUlbIwPN4",
        "outputId": "93578e2a-f232-4c6c-9fe1-3fb85d36dc2e"
      },
      "source": [
        "def fibonacci(nterms):\r\n",
        "  \"This function creates fibonacci series with n terms\"\r\n",
        "\r\n",
        "  fibonacci = [1,1]\r\n",
        "  for i in range(0,nterms-2):\r\n",
        "      a,b = fibonacci[i],fibonacci[i+1]\r\n",
        "      a,b = b, a+b\r\n",
        "      fibonacci.append(b)\r\n",
        "  return fibonacci\r\n",
        "\r\n",
        "\r\n",
        "print(fibonacci(11))\r\n"
      ],
      "execution_count": 4,
      "outputs": [
        {
          "output_type": "stream",
          "text": [
            "[1, 1, 2, 3, 5, 8, 13, 21, 34, 55, 89]\n"
          ],
          "name": "stdout"
        }
      ]
    }
  ]
}